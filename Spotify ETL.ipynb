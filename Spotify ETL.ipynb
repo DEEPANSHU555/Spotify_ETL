{
 "cells": [
  {
   "cell_type": "code",
   "execution_count": null,
   "id": "13c65136-9e81-46af-88ee-987b9e0a25b3",
   "metadata": {},
   "outputs": [],
   "source": [
    "pip install pandas"
   ]
  },
  {
   "cell_type": "code",
   "execution_count": null,
   "id": "e2c19f08-bf18-4b0a-84a8-4a2c0fd6101c",
   "metadata": {},
   "outputs": [],
   "source": [
    "pip install spotipy"
   ]
  },
  {
   "cell_type": "code",
   "execution_count": null,
   "id": "c5c85e11-8cf2-40b7-9a4d-6f275d918dc1",
   "metadata": {},
   "outputs": [],
   "source": [
    "import spotipy\n",
    "import pandas as pd"
   ]
  },
  {
   "cell_type": "code",
   "execution_count": null,
   "id": "c7df562f-7c9b-4472-bb17-43501dbfb214",
   "metadata": {},
   "outputs": [],
   "source": [
    "from spotipy.oauth2 import SpotifyClientCredentials"
   ]
  },
  {
   "cell_type": "code",
   "execution_count": null,
   "id": "e3fd174f-c480-4fd6-bf18-9d9d43f6d417",
   "metadata": {},
   "outputs": [],
   "source": [
    "client_credentials_manager = SpotifyClientCredentials(client_id =\"c501e81a60fd446c995e3789efed66b4\" ,client_secret =\"67aa00d82e574b00af2b034753723ae0\")"
   ]
  },
  {
   "cell_type": "code",
   "execution_count": null,
   "id": "4133ea20-c9ff-4d06-ace2-1ff898dae16f",
   "metadata": {},
   "outputs": [],
   "source": [
    "sp =spotipy.Spotify(client_credentials_manager = client_credentials_manager)"
   ]
  },
  {
   "cell_type": "code",
   "execution_count": null,
   "id": "8c634d21-219c-4c19-bb53-9f50f8b08e9a",
   "metadata": {},
   "outputs": [],
   "source": [
    "playlist_link = \"https://open.spotify.com/playlist/37i9dQZF1DX5cZuAHLNjGz\""
   ]
  },
  {
   "cell_type": "code",
   "execution_count": null,
   "id": "e8ea9b68-a1f8-4916-afa7-7820abd96360",
   "metadata": {},
   "outputs": [],
   "source": [
    "Playlist_URI = playlist_link.split(\"/\")[-1]"
   ]
  },
  {
   "cell_type": "code",
   "execution_count": null,
   "id": "0a188b0f-3a01-4e30-9892-942930e8f779",
   "metadata": {},
   "outputs": [],
   "source": [
    "data=sp.playlist_tracks(Playlist_URI)"
   ]
  },
  {
   "cell_type": "code",
   "execution_count": null,
   "id": "6262d3c6-849b-440d-a653-9d5b0c741806",
   "metadata": {},
   "outputs": [],
   "source": [
    "data['items'][0]['track']['album']['id']"
   ]
  },
  {
   "cell_type": "code",
   "execution_count": null,
   "id": "20fcffb5-9f12-401c-935e-7fc73039c3a6",
   "metadata": {},
   "outputs": [],
   "source": [
    "data['items'][0]['track']['album']['name']"
   ]
  },
  {
   "cell_type": "code",
   "execution_count": null,
   "id": "495b1a1a-3e13-45d1-be31-f626e0b5d5bb",
   "metadata": {},
   "outputs": [],
   "source": [
    "data['items'][0]['track']['album']['release_date']"
   ]
  },
  {
   "cell_type": "code",
   "execution_count": null,
   "id": "093ed374-4879-48e6-95dd-00c5a0331356",
   "metadata": {},
   "outputs": [],
   "source": [
    "data['items'][0]['track']['album']['total_tracks']"
   ]
  },
  {
   "cell_type": "code",
   "execution_count": null,
   "id": "f331e17e-5334-4df1-8550-38046106e30c",
   "metadata": {},
   "outputs": [],
   "source": [
    "data['items'][0]['track']['album']['external_urls']['spotify']"
   ]
  },
  {
   "cell_type": "code",
   "execution_count": null,
   "id": "6e681f95-eeda-4079-a8d7-11027bdf340c",
   "metadata": {},
   "outputs": [],
   "source": [
    "data['items'][7]['track']['album']['release_date']"
   ]
  },
  {
   "cell_type": "code",
   "execution_count": null,
   "id": "e2e1da3b-a756-462f-a5b9-722b3f869c1f",
   "metadata": {},
   "outputs": [],
   "source": [
    "album_list =[]\n",
    "for row in data['items']:\n",
    "    album_id = row['track']['album']['id']\n",
    "    album_name = row['track']['album']['name']\n",
    "    release_date = row['track']['album']['release_date']\n",
    "    total_tracks = row['track']['album']['total_tracks']\n",
    "    link = row['track']['album']['external_urls']['spotify']\n",
    "   #print(  album_elements)\n",
    "    album_elements ={ 'album_id':album_id, 'album_name':album_name,  'release_date':release_date, 'total_tracks':total_tracks, 'link':link}\n",
    "    album_list.append(album_elements)"
   ]
  },
  {
   "cell_type": "code",
   "execution_count": null,
   "id": "f9c92879-28d8-415f-bf64-a6329c98582d",
   "metadata": {},
   "outputs": [],
   "source": [
    "data['items'][0]['track']"
   ]
  },
  {
   "cell_type": "code",
   "execution_count": null,
   "id": "a43b9caf-e910-4d36-b32d-6c9e8019ec58",
   "metadata": {},
   "outputs": [],
   "source": [
    "artist_list = []\n",
    "for row in data['items']:\n",
    "    for key,value in row.items():\n",
    "        if key== 'track':\n",
    "            for artist in value['artists']:\n",
    "                artist_dic = {'artist_id' : artist['id'],'artist_name' : artist['name'] ,'artist_Url' : artist['href']}\n",
    "                artist_list.append(artist_dic)"
   ]
  },
  {
   "cell_type": "code",
   "execution_count": null,
   "id": "c7ed58fd-97f2-427b-baec-229ed139d8c6",
   "metadata": {},
   "outputs": [],
   "source": [
    "artist_list"
   ]
  },
  {
   "cell_type": "code",
   "execution_count": null,
   "id": "c10e51f7-2952-4d30-a488-0a63ad75b731",
   "metadata": {},
   "outputs": [],
   "source": [
    "data['items'][0]['track']"
   ]
  },
  {
   "cell_type": "code",
   "execution_count": null,
   "id": "39e1556c-b106-4eae-a910-b0c606d92f9d",
   "metadata": {},
   "outputs": [],
   "source": [
    "song_list = []\n",
    "for row in data['items']:\n",
    "    song_id = row['track']['id']\n",
    "    song_name = row['track']['name']\n",
    "    song_popularity = row['track']['popularity']\n",
    "    song_preview = row['track']['preview_url']\n",
    "    song_link = row['track']['href']\n",
    "    song_elements = {'song_id' : song_id, 'song_name' : song_name, 'song_popularity' : song_popularity, 'song_preview' : song_preview, 'song_link' : song_link}\n",
    "    song_list.append(song_elements)"
   ]
  },
  {
   "cell_type": "code",
   "execution_count": null,
   "id": "63255d25-3a65-4971-b61e-70019e97a798",
   "metadata": {},
   "outputs": [],
   "source": [
    "#song_list"
   ]
  },
  {
   "cell_type": "code",
   "execution_count": null,
   "id": "73960dc9-e4f4-4264-a656-436b4c191818",
   "metadata": {},
   "outputs": [],
   "source": [
    "album_df = pd.DataFrame.from_dict(album_list)"
   ]
  },
  {
   "cell_type": "code",
   "execution_count": null,
   "id": "a48bc4f6-3a58-414c-adc1-724f9c482326",
   "metadata": {},
   "outputs": [],
   "source": [
    "#album_df.head(10)"
   ]
  },
  {
   "cell_type": "code",
   "execution_count": null,
   "id": "73f454c7-453e-4c1f-a228-92aa6fef1084",
   "metadata": {},
   "outputs": [],
   "source": [
    "album_df.info()"
   ]
  },
  {
   "cell_type": "code",
   "execution_count": null,
   "id": "3fd75506-ecad-4323-9fd2-8fc818f9773d",
   "metadata": {},
   "outputs": [],
   "source": [
    "album_df = album_df.drop_duplicates(subset =['album_id'])"
   ]
  },
  {
   "cell_type": "code",
   "execution_count": null,
   "id": "9fe52eda-a20f-4c9a-a63d-47e3eedd53bd",
   "metadata": {},
   "outputs": [],
   "source": [
    "album_df"
   ]
  },
  {
   "cell_type": "code",
   "execution_count": null,
   "id": "508f70a9-796a-41b7-93af-dbd48e3d2c25",
   "metadata": {},
   "outputs": [],
   "source": [
    "artist_df = pd.DataFrame.from_dict(artist_list)"
   ]
  },
  {
   "cell_type": "code",
   "execution_count": null,
   "id": "e7c3a892-6ba9-413a-9466-be92a8aa6b6c",
   "metadata": {},
   "outputs": [],
   "source": [
    "artist_df = artist_df.drop_duplicates(subset= ['artist_id'])"
   ]
  },
  {
   "cell_type": "code",
   "execution_count": null,
   "id": "7404da91-3249-49ce-b9e6-bd9b3b071c3d",
   "metadata": {},
   "outputs": [],
   "source": [
    "song_df = pd.DataFrame.from_dict(song_list)"
   ]
  },
  {
   "cell_type": "code",
   "execution_count": null,
   "id": "90a14223-7e15-4762-98a8-677a0bc0bd00",
   "metadata": {},
   "outputs": [],
   "source": [
    "album_df['release_date'] = pd.to_datetime(album_df['release_date'], errors='coerce')"
   ]
  },
  {
   "cell_type": "code",
   "execution_count": null,
   "id": "ce1d1c4b-0984-4998-b432-056a6b203312",
   "metadata": {},
   "outputs": [],
   "source": [
    "missing_date_indices = album_df['release_date'].isnull()"
   ]
  },
  {
   "cell_type": "code",
   "execution_count": null,
   "id": "6accb673-b987-42ab-a4e0-6d2aa5d565b7",
   "metadata": {},
   "outputs": [],
   "source": [
    "default_date = pd.Timestamp('2019-01-01')  # Define a default date (e.g., January 1st, 1900)\n",
    "album_df.loc[missing_date_indices, 'release_date'] = default_date"
   ]
  },
  {
   "cell_type": "code",
   "execution_count": null,
   "id": "a0fb7e3b-22bc-4b01-a713-b577bcc7fd8b",
   "metadata": {},
   "outputs": [],
   "source": [
    "album_df"
   ]
  },
  {
   "cell_type": "code",
   "execution_count": null,
   "id": "ba93cc9e-9c9d-4593-979c-25d88e504a2a",
   "metadata": {},
   "outputs": [],
   "source": [
    "pd.set_option('display.max_rows', None)"
   ]
  }
 ],
 "metadata": {
  "kernelspec": {
   "display_name": "Python 3 (ipykernel)",
   "language": "python",
   "name": "python3"
  },
  "language_info": {
   "codemirror_mode": {
    "name": "ipython",
    "version": 3
   },
   "file_extension": ".py",
   "mimetype": "text/x-python",
   "name": "python",
   "nbconvert_exporter": "python",
   "pygments_lexer": "ipython3",
   "version": "3.12.0"
  }
 },
 "nbformat": 4,
 "nbformat_minor": 5
}
